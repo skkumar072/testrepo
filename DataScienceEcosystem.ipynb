{
 "cells": [
  {
   "cell_type": "markdown",
   "id": "5936ccdd",
   "metadata": {},
   "source": [
    "# Data Science Tools and Ecosystem"
   ]
  },
  {
   "cell_type": "markdown",
   "id": "04dcb12f",
   "metadata": {},
   "source": [
    "### In this notebook, Data Science Tools and Ecosystem are summarized."
   ]
  },
  {
   "cell_type": "markdown",
   "id": "fdda2a3a",
   "metadata": {},
   "source": [
    "**Objectives**\n",
    "- Some of the popular languages that Data Scientists use are:\n",
    "    - Python\n",
    "    - Julia\n",
    "    - Apache Spark\n",
    "- Some of the commonly used libraries used by Data Scientists include:\n",
    "    - Tenson Flow\n",
    "    - Pandas\n",
    "    - Sci-kit Learn\n",
    "- Below are a few examples of evaluating arithmetic expressions in Python\n",
    "\n",
    "    - (3*4)+5\n",
    "      output: 17\n"
   ]
  },
  {
   "cell_type": "markdown",
   "id": "1ddbb9b2",
   "metadata": {},
   "source": [
    "### Some of the popular languages that Data Scientists use are:\n",
    "\n",
    "1. Python\n",
    "2. Julia\n",
    "3. Apache Spark"
   ]
  },
  {
   "cell_type": "markdown",
   "id": "fd8f58fc",
   "metadata": {},
   "source": [
    "### Some of the commonly used libraries used by Data Scientists include:\n",
    "\n",
    "1. Tensor Flow\n",
    "2. Pandas\n",
    "3. Sci-Kit learn"
   ]
  },
  {
   "cell_type": "markdown",
   "id": "095c6b56",
   "metadata": {},
   "source": [
    "| Data Science Tools |\n",
    "|--------------------|\n",
    "|Jupyter Notebook|\n",
    "|IBM Watson Studio|\n",
    "|R-studio|"
   ]
  },
  {
   "cell_type": "markdown",
   "id": "8781b313",
   "metadata": {},
   "source": [
    "### Below are a few examples of evaluating arithmetic expressions in Python"
   ]
  },
  {
   "cell_type": "code",
   "execution_count": 1,
   "id": "9adfc9e7",
   "metadata": {},
   "outputs": [
    {
     "data": {
      "text/plain": [
       "17"
      ]
     },
     "execution_count": 1,
     "metadata": {},
     "output_type": "execute_result"
    }
   ],
   "source": [
    "# This a simple arithmetic expression to mutiply then add integers\n",
    "(3*4)+5"
   ]
  },
  {
   "cell_type": "code",
   "execution_count": 2,
   "id": "fa9a712e",
   "metadata": {},
   "outputs": [
    {
     "name": "stdout",
     "output_type": "stream",
     "text": [
      "3.3333333333333335\n"
     ]
    }
   ],
   "source": [
    "#This will convert 200 minutes to hours by diving by 60\n",
    "a = 200\n",
    "b = a / 60\n",
    "print (b)\n"
   ]
  },
  {
   "cell_type": "markdown",
   "id": "781ec605",
   "metadata": {},
   "source": [
    "## Author\n",
    "\n",
    "Santosh Kumar H"
   ]
  },
  {
   "cell_type": "code",
   "execution_count": null,
   "id": "477b8ad2",
   "metadata": {},
   "outputs": [],
   "source": []
  }
 ],
 "metadata": {
  "kernelspec": {
   "display_name": "Python 3 (ipykernel)",
   "language": "python",
   "name": "python3"
  },
  "language_info": {
   "codemirror_mode": {
    "name": "ipython",
    "version": 3
   },
   "file_extension": ".py",
   "mimetype": "text/x-python",
   "name": "python",
   "nbconvert_exporter": "python",
   "pygments_lexer": "ipython3",
   "version": "3.7.6"
  }
 },
 "nbformat": 4,
 "nbformat_minor": 5
}
