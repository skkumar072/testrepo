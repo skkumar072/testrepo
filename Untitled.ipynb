{
 "cells": [
  {
   "cell_type": "markdown",
   "id": "b13a18a6",
   "metadata": {},
   "source": [
    "# My Jupyter Notebook on IBM Watson Studio"
   ]
  },
  {
   "cell_type": "markdown",
   "id": "a623fa0b",
   "metadata": {},
   "source": [
    "## Santosh Kumar\n",
    "### Digital Engineer"
   ]
  },
  {
   "cell_type": "markdown",
   "id": "7525b2bd",
   "metadata": {},
   "source": [
    "*I am interested in Data Science because I would to do analytics work in my area of interst.*"
   ]
  },
  {
   "cell_type": "markdown",
   "id": "837006ad",
   "metadata": {},
   "source": [
    "### Code will concatenate two numbers"
   ]
  },
  {
   "cell_type": "code",
   "execution_count": 5,
   "id": "cf493bc5",
   "metadata": {},
   "outputs": [
    {
     "name": "stdout",
     "output_type": "stream",
     "text": [
      "5\n",
      "\n"
     ]
    }
   ],
   "source": [
    "a =input()\n",
    "b=input()\n",
    "c= a + b\n"
   ]
  },
  {
   "cell_type": "markdown",
   "id": "76db5f8c",
   "metadata": {},
   "source": [
    "- bullet 1\n",
    "- bullet 2\n",
    "- bullet 3\n",
    "\n",
    "|Heading 1 | Heading 2 |\n",
    "|----------|-----------|\n",
    "|Text 1    | Text 2    |\n",
    "\n",
    "\n",
    "Horizontal Line\n",
    "***"
   ]
  },
  {
   "cell_type": "code",
   "execution_count": null,
   "id": "15e9583c",
   "metadata": {},
   "outputs": [],
   "source": []
  }
 ],
 "metadata": {
  "kernelspec": {
   "display_name": "Python 3 (ipykernel)",
   "language": "python",
   "name": "python3"
  },
  "language_info": {
   "codemirror_mode": {
    "name": "ipython",
    "version": 3
   },
   "file_extension": ".py",
   "mimetype": "text/x-python",
   "name": "python",
   "nbconvert_exporter": "python",
   "pygments_lexer": "ipython3",
   "version": "3.7.6"
  }
 },
 "nbformat": 4,
 "nbformat_minor": 5
}
